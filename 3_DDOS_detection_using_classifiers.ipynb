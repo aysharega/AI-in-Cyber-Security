{
  "nbformat": 4,
  "nbformat_minor": 0,
  "metadata": {
    "colab": {
      "name": "3. DDOS detection using classifiers.ipynb",
      "provenance": [],
      "authorship_tag": "ABX9TyNDHq7aQbLrUg3rj9ABGW17",
      "include_colab_link": true
    },
    "kernelspec": {
      "name": "python3",
      "display_name": "Python 3"
    },
    "language_info": {
      "name": "python"
    }
  },
  "cells": [
    {
      "cell_type": "markdown",
      "metadata": {
        "id": "view-in-github",
        "colab_type": "text"
      },
      "source": [
        "<a href=\"https://colab.research.google.com/github/aysharega/AI-in-Cyber-Security/blob/main/3_DDOS_detection_using_classifiers.ipynb\" target=\"_parent\"><img src=\"https://colab.research.google.com/assets/colab-badge.svg\" alt=\"Open In Colab\"/></a>"
      ]
    },
    {
      "cell_type": "markdown",
      "source": [
        "# DDOS detection using Decision Tree"
      ],
      "metadata": {
        "id": "CkzU7vnqN2Kj"
      }
    },
    {
      "cell_type": "code",
      "execution_count": 7,
      "metadata": {
        "id": "AJP_KT-vzI5b",
        "colab": {
          "base_uri": "https://localhost:8080/",
          "height": 0
        },
        "outputId": "9ad9edbe-6796-40e5-b514-1ea9d8486754"
      },
      "outputs": [
        {
          "output_type": "stream",
          "name": "stdout",
          "text": [
            "['NetBIOS']\n"
          ]
        },
        {
          "output_type": "stream",
          "name": "stderr",
          "text": [
            "/usr/local/lib/python3.7/dist-packages/sklearn/base.py:446: UserWarning: X does not have valid feature names, but DecisionTreeClassifier was fitted with feature names\n",
            "  \"X does not have valid feature names, but\"\n"
          ]
        }
      ],
      "source": [
        "#1. Training\n",
        "import pandas as pd\n",
        "DDOS=pd.read_csv(\"/content/final_dataset1.csv\")\n",
        "x= DDOS[[' Protocol', 'Total Length of Fwd Packets', ' Total Fwd Packets', ' Total Backward Packets']]\n",
        "y= DDOS[[' Label']]\n",
        "#algorithm(decision tree)\n",
        "from sklearn.tree import DecisionTreeClassifier\n",
        "ML=DecisionTreeClassifier()\n",
        "#fit data\n",
        "ML=ML.fit(x,y)\n",
        "#testing\n",
        "result=ML.predict([[16,24,4, 460]])\n",
        "print(result)\n"
      ]
    },
    {
      "cell_type": "markdown",
      "source": [
        "# DDOS detection using Naive Bayes classifier"
      ],
      "metadata": {
        "id": "RqZCSPRHOBjh"
      }
    },
    {
      "cell_type": "code",
      "source": [
        " #1.TRAINING\n",
        "#LOAD DATA\n",
        "import pandas as pd\n",
        "DDOS=pd.read_csv(\"/content/final_dataset1.csv\")\n",
        "X= DDOS[[' Protocol', 'Total Length of Fwd Packets', ' Total Fwd Packets', ' Total Backward Packets']]\n",
        "Y = DDOS[[' Label']]\n",
        "#ALGORITHM\n",
        "from sklearn.naive_bayes import GaussianNB\n",
        "ML1=GaussianNB()\n",
        "from sklearn.naive_bayes import MultinomialNB\n",
        "ML2=MultinomialNB()\n",
        "from sklearn.naive_bayes import BernoulliNB\n",
        "ML3=BernoulliNB()\n",
        "#FIT DATA\n",
        "ML1=ML1.fit(X,Y)\n",
        "ML2=ML2.fit(X,Y)\n",
        "ML3=ML3.fit(X,Y)\n",
        "#2.TESTING\n",
        "result1=ML1.predict([[16,24,4,2]])\n",
        "print(\"Prediction using GUASSIAN NB=\",result1)\n",
        "result2=ML2.predict([[16,24,4,2]])\n",
        "print(\"Prediction using MULTINOMIAL NB=\",result2)\n",
        "result3=ML3.predict([[16,24,4,2]])\n",
        "print(\"Prediction using BERNOULLI NB=\",result3)"
      ],
      "metadata": {
        "id": "UZoy90j3N_t4",
        "colab": {
          "base_uri": "https://localhost:8080/",
          "height": 0
        },
        "outputId": "d9b612cf-31b3-4ab5-e334-9126bde35216"
      },
      "execution_count": 16,
      "outputs": [
        {
          "output_type": "stream",
          "name": "stdout",
          "text": [
            "Prediction using GUASSIAN NB= ['LDAP']\n",
            "Prediction using MULTINOMIAL NB= ['LDAP']\n",
            "Prediction using BERNOULLI NB= ['LDAP']\n"
          ]
        },
        {
          "output_type": "stream",
          "name": "stderr",
          "text": [
            "/usr/local/lib/python3.7/dist-packages/sklearn/utils/validation.py:985: DataConversionWarning: A column-vector y was passed when a 1d array was expected. Please change the shape of y to (n_samples, ), for example using ravel().\n",
            "  y = column_or_1d(y, warn=True)\n",
            "/usr/local/lib/python3.7/dist-packages/sklearn/utils/validation.py:985: DataConversionWarning: A column-vector y was passed when a 1d array was expected. Please change the shape of y to (n_samples, ), for example using ravel().\n",
            "  y = column_or_1d(y, warn=True)\n",
            "/usr/local/lib/python3.7/dist-packages/sklearn/utils/validation.py:985: DataConversionWarning: A column-vector y was passed when a 1d array was expected. Please change the shape of y to (n_samples, ), for example using ravel().\n",
            "  y = column_or_1d(y, warn=True)\n",
            "/usr/local/lib/python3.7/dist-packages/sklearn/base.py:446: UserWarning: X does not have valid feature names, but GaussianNB was fitted with feature names\n",
            "  \"X does not have valid feature names, but\"\n",
            "/usr/local/lib/python3.7/dist-packages/sklearn/base.py:446: UserWarning: X does not have valid feature names, but MultinomialNB was fitted with feature names\n",
            "  \"X does not have valid feature names, but\"\n",
            "/usr/local/lib/python3.7/dist-packages/sklearn/base.py:446: UserWarning: X does not have valid feature names, but BernoulliNB was fitted with feature names\n",
            "  \"X does not have valid feature names, but\"\n"
          ]
        }
      ]
    },
    {
      "cell_type": "markdown",
      "source": [
        "# DDOS detection using Support Vector Machine"
      ],
      "metadata": {
        "id": "RbK0NN1rOUi6"
      }
    },
    {
      "cell_type": "code",
      "source": [
        "#1.TRAINING\n",
        "#LOAD DATA\n",
        "import pandas as pd\n",
        "DDOS=pd.read_csv(\"/content/final_dataset1.csv\")\n",
        "x= DDOS[[' Protocol', 'Total Length of Fwd Packets', ' Total Fwd Packets', ' Total Backward Packets']]\n",
        "y=DDOS[[' Label']]\n",
        "#ALGORITHM\n",
        "from sklearn.svm import SVC\n",
        "ML=SVC()\n",
        "#FIT DATA\n",
        "ML=ML.fit(x,y)\n",
        "#2.TESTING\n",
        "result=ML.predict(x)\n",
        "from sklearn.metrics import accuracy_score\n",
        "accuracy_score(result,y)\n"
      ],
      "metadata": {
        "id": "jNDs4XDLOqwt",
        "colab": {
          "base_uri": "https://localhost:8080/",
          "height": 0
        },
        "outputId": "80548ddc-786f-43f9-aed7-7a7c5eb9d025"
      },
      "execution_count": 17,
      "outputs": [
        {
          "output_type": "stream",
          "name": "stderr",
          "text": [
            "/usr/local/lib/python3.7/dist-packages/sklearn/utils/validation.py:985: DataConversionWarning: A column-vector y was passed when a 1d array was expected. Please change the shape of y to (n_samples, ), for example using ravel().\n",
            "  y = column_or_1d(y, warn=True)\n"
          ]
        },
        {
          "output_type": "execute_result",
          "data": {
            "text/plain": [
              "0.6310679611650486"
            ]
          },
          "metadata": {},
          "execution_count": 17
        }
      ]
    }
  ]
}