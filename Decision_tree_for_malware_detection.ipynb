{
  "nbformat": 4,
  "nbformat_minor": 0,
  "metadata": {
    "colab": {
      "name": "Decision tree for malware detection.ipynb",
      "provenance": [],
      "authorship_tag": "ABX9TyO+rPxjIXAJdk5Vf456w6Fe",
      "include_colab_link": true
    },
    "kernelspec": {
      "name": "python3",
      "display_name": "Python 3"
    },
    "language_info": {
      "name": "python"
    }
  },
  "cells": [
    {
      "cell_type": "markdown",
      "metadata": {
        "id": "view-in-github",
        "colab_type": "text"
      },
      "source": [
        "<a href=\"https://colab.research.google.com/github/aysharega/AI-in-Cyber-Security/blob/main/Decision_tree_for_malware_detection.ipynb\" target=\"_parent\"><img src=\"https://colab.research.google.com/assets/colab-badge.svg\" alt=\"Open In Colab\"/></a>"
      ]
    },
    {
      "cell_type": "code",
      "execution_count": 19,
      "metadata": {
        "colab": {
          "base_uri": "https://localhost:8080/",
          "height": 110
        },
        "id": "wBvGDc_KlHZt",
        "outputId": "05151015-bded-4b75-a69c-15937f86948f"
      },
      "outputs": [
        {
          "output_type": "stream",
          "name": "stderr",
          "text": [
            "/usr/local/lib/python3.7/dist-packages/IPython/core/interactiveshell.py:2718: DtypeWarning: Columns (2) have mixed types.Specify dtype option on import or set low_memory=False.\n",
            "  interactivity=interactivity, compiler=compiler, result=result)\n"
          ]
        },
        {
          "output_type": "stream",
          "name": "stdout",
          "text": [
            "Class Predicted:  [0 0 1 ... 1 0 0]\n",
            "Accuracy =  89.8437740732752\n"
          ]
        },
        {
          "output_type": "execute_result",
          "data": {
            "application/vnd.google.colaboratory.intrinsic+json": {
              "type": "string"
            },
            "text/plain": [
              "'Graph-Malware.pdf'"
            ]
          },
          "metadata": {},
          "execution_count": 19
        }
      ],
      "source": [
        "import numpy as np\n",
        "import pandas as pd\n",
        "data = pd.read_csv('Kaggle-data.csv')\n",
        "x = data[['MajorOperatingSystemVersion','MinorOperatingSystemVersion','MajorImageVersion',\n",
        "'MinorImageVersion','MajorSubsystemVersion','MinorSubsystemVersion']]\n",
        "\n",
        "y = data['legitimate']\n",
        "from sklearn.model_selection import train_test_split\n",
        "X_train,x_test,y_train,y_test=train_test_split(x,y,train_size=0.7,random_state=42)\n",
        "from sklearn.tree import DecisionTreeClassifier\n",
        "ML=DecisionTreeClassifier()\n",
        "ML=ML.fit(X_train,y_train)\n",
        "\n",
        "y_pred=ML.predict(x_test)\n",
        "print(\"Class Predicted: \",y_pred)\n",
        "from sklearn.metrics import accuracy_score\n",
        "accuracy = accuracy_score(y_test, y_pred)*100\n",
        "print(\"Accuracy = \",accuracy)\n",
        "\n",
        "import graphviz\n",
        "from sklearn import tree\n",
        "dot_data=tree.export_graphviz(ML,feature_names=['MajorOperatingSystemVersion','MinorOperatingSystemVersion',\n",
        "'MajorImageVersion','MinorImageVersion','MajorSubsystemVersion','MinorSubsystemVersion'],\n",
        "     class_names=['0','1'],filled=True,\n",
        "rounded=False,special_characters=True)\n",
        "\n",
        "graph=graphviz.Source(dot_data)\n",
        "graph\n",
        "graph.render(\"Graph-Malware\")"
      ]
    }
  ]
}