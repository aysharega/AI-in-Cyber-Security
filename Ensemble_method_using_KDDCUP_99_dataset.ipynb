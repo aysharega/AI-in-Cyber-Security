{
  "nbformat": 4,
  "nbformat_minor": 0,
  "metadata": {
    "colab": {
      "name": "Ensemble method using KDDCUP_99 dataset.ipynb",
      "provenance": [],
      "authorship_tag": "ABX9TyN1DoYWs6kCWoneTL23/wj9",
      "include_colab_link": true
    },
    "kernelspec": {
      "name": "python3",
      "display_name": "Python 3"
    },
    "language_info": {
      "name": "python"
    }
  },
  "cells": [
    {
      "cell_type": "markdown",
      "metadata": {
        "id": "view-in-github",
        "colab_type": "text"
      },
      "source": [
        "<a href=\"https://colab.research.google.com/github/aysharega/AI-in-Cyber-Security/blob/main/Ensemble_method_using_KDDCUP_99_dataset.ipynb\" target=\"_parent\"><img src=\"https://colab.research.google.com/assets/colab-badge.svg\" alt=\"Open In Colab\"/></a>"
      ]
    },
    {
      "cell_type": "code",
      "source": [
        "import numpy as np\n",
        "import pandas as pd\n",
        "from sklearn.linear_model import LogisticRegression\n",
        "from sklearn.naive_bayes import GaussianNB\n",
        "from sklearn.ensemble import RandomForestClassifier, VotingClassifier\n",
        "\n",
        "# Import the dataset\n",
        "df = pd.read_csv('/content/Kddcup_99_csv.csv')\n",
        "df.columns"
      ],
      "metadata": {
        "colab": {
          "base_uri": "https://localhost:8080/"
        },
        "id": "WqYyaqghw548",
        "outputId": "0af1811b-1231-422a-eb38-32dd124dc4f8"
      },
      "execution_count": 3,
      "outputs": [
        {
          "output_type": "execute_result",
          "data": {
            "text/plain": [
              "Index(['duration', 'protocol_type', 'service', 'flag', 'src_bytes',\n",
              "       'dst_bytes', 'land', 'wrong_fragment', 'urgent', 'hot',\n",
              "       'num_failed_logins', 'logged_in', 'lnum_compromised', 'lroot_shell',\n",
              "       'lsu_attempted', 'lnum_root', 'lnum_file_creations', 'lnum_shells',\n",
              "       'lnum_access_files', 'lnum_outbound_cmds', 'is_host_login',\n",
              "       'is_guest_login', 'count', 'srv_count', 'serror_rate',\n",
              "       'srv_serror_rate', 'rerror_rate', 'srv_rerror_rate', 'same_srv_rate',\n",
              "       'diff_srv_rate', 'srv_diff_host_rate', 'dst_host_count',\n",
              "       'dst_host_srv_count', 'dst_host_same_srv_rate',\n",
              "       'dst_host_diff_srv_rate', 'dst_host_same_src_port_rate',\n",
              "       'dst_host_srv_diff_host_rate', 'dst_host_serror_rate',\n",
              "       'dst_host_srv_serror_rate', 'dst_host_rerror_rate',\n",
              "       'dst_host_srv_rerror_rate', 'label'],\n",
              "      dtype='object')"
            ]
          },
          "metadata": {},
          "execution_count": 3
        }
      ]
    },
    {
      "cell_type": "code",
      "source": [
        "# Splitting dataset into features and label\n",
        "X = df[['duration','src_bytes','dst_bytes','src_bytes','num_failed_logins','is_host_login','srv_count','serror_rate',\n",
        "'srv_serror_rate', 'rerror_rate', 'srv_rerror_rate', 'same_srv_rate',\n",
        "'diff_srv_rate', 'srv_diff_host_rate', 'dst_host_count',\n",
        "'dst_host_srv_count', 'dst_host_same_srv_rate',\n",
        "'dst_host_diff_srv_rate', 'dst_host_same_src_port_rate',\n",
        "'dst_host_srv_diff_host_rate', 'dst_host_serror_rate',\n",
        "'dst_host_srv_serror_rate', 'dst_host_rerror_rate',\n",
        "'dst_host_srv_rerror_rate']]\n",
        "y = df['label']\n",
        "#Splitting the dataset into the training set and the test set\n",
        "from sklearn.model_selection import train_test_split\n",
        "from sklearn.preprocessing import StandardScaler\n",
        "X_train, X_test, y_train, y_test = train_test_split(X, y, test_size=0.2, random_state=0)\n",
        "\n",
        "# Feature scaling (or standardization)\n",
        "scaler = StandardScaler()\n",
        "X_train = scaler.fit_transform(X_train)\n",
        "X_test = scaler.transform(X_test)\n",
        "Model1 = LogisticRegression(multi_class='multinomial', random_state=1)\n",
        "Model2 = RandomForestClassifier(n_estimators=50, random_state=1)\n",
        "Model3 = GaussianNB()\n",
        "eclf1 = VotingClassifier(estimators=[('lr', Model1), ('rf', Model2), ('gnb', Model3)], voting='hard')\n",
        "eclf1 = eclf1.fit(X_train, y_train)\n",
        "y_pred1=(eclf1.predict(X_test))\n",
        "print(y_pred1)\n",
        "eclf2 = VotingClassifier(estimators=[('lr', Model1), ('rf', Model2), ('gnb', Model3)], voting='soft')\n",
        "eclf2 = eclf1.fit(X_train, y_train)\n",
        "y_pred2=(eclf2.predict(X_test))\n",
        "print(y_pred2)\n",
        "from sklearn.metrics import accuracy_score\n",
        "acc = accuracy_score(y_test, y_pred1)\n",
        "print(acc)\n",
        "from sklearn.metrics import accuracy_score\n",
        "acc = accuracy_score(y_test, y_pred2)\n",
        "print(acc)\n",
        "\n"
      ],
      "metadata": {
        "colab": {
          "base_uri": "https://localhost:8080/"
        },
        "id": "xTc6zpnpxz7j",
        "outputId": "18d29b43-3cb8-4c77-8655-c1ab316ba31a"
      },
      "execution_count": 5,
      "outputs": [
        {
          "output_type": "stream",
          "name": "stdout",
          "text": [
            "['normal' 'normal' 'normal' 'smurf' 'smurf' 'normal' 'neptune' 'neptune'\n",
            " 'normal' 'normal' 'neptune' 'normal' 'neptune' 'neptune' 'smurf' 'smurf'\n",
            " 'normal' 'normal' 'neptune' 'neptune' 'neptune' 'normal' 'smurf' 'normal'\n",
            " 'neptune' 'neptune' 'smurf' 'neptune' 'neptune' 'neptune' 'neptune'\n",
            " 'normal' 'neptune' 'neptune' 'neptune' 'smurf' 'neptune' 'smurf'\n",
            " 'neptune' 'neptune' 'normal' 'normal' 'neptune' 'neptune' 'normal'\n",
            " 'normal' 'neptune' 'smurf' 'smurf' 'smurf' 'smurf' 'smurf' 'neptune'\n",
            " 'normal' 'smurf' 'normal' 'smurf' 'neptune' 'neptune' 'neptune' 'neptune'\n",
            " 'neptune' 'neptune' 'neptune' 'smurf' 'smurf' 'neptune' 'normal'\n",
            " 'neptune' 'neptune' 'normal' 'normal' 'neptune' 'smurf' 'smurf' 'neptune'\n",
            " 'neptune' 'normal' 'smurf' 'normal' 'smurf' 'normal' 'neptune' 'normal'\n",
            " 'normal' 'neptune' 'smurf' 'smurf' 'normal' 'neptune' 'normal' 'neptune'\n",
            " 'neptune' 'normal' 'neptune' 'smurf' 'neptune']\n",
            "['normal' 'normal' 'normal' 'smurf' 'smurf' 'normal' 'neptune' 'neptune'\n",
            " 'normal' 'normal' 'neptune' 'normal' 'neptune' 'neptune' 'smurf' 'smurf'\n",
            " 'normal' 'normal' 'neptune' 'neptune' 'neptune' 'normal' 'smurf' 'normal'\n",
            " 'neptune' 'neptune' 'smurf' 'neptune' 'neptune' 'neptune' 'neptune'\n",
            " 'normal' 'neptune' 'neptune' 'neptune' 'smurf' 'neptune' 'smurf'\n",
            " 'neptune' 'neptune' 'normal' 'normal' 'neptune' 'neptune' 'normal'\n",
            " 'normal' 'neptune' 'smurf' 'smurf' 'smurf' 'smurf' 'smurf' 'neptune'\n",
            " 'normal' 'smurf' 'normal' 'smurf' 'neptune' 'neptune' 'neptune' 'neptune'\n",
            " 'neptune' 'neptune' 'neptune' 'smurf' 'smurf' 'neptune' 'normal'\n",
            " 'neptune' 'neptune' 'normal' 'normal' 'neptune' 'smurf' 'smurf' 'neptune'\n",
            " 'neptune' 'normal' 'smurf' 'normal' 'smurf' 'normal' 'neptune' 'normal'\n",
            " 'normal' 'neptune' 'smurf' 'smurf' 'normal' 'neptune' 'normal' 'neptune'\n",
            " 'neptune' 'normal' 'neptune' 'smurf' 'neptune']\n",
            "1.0\n",
            "1.0\n"
          ]
        }
      ]
    }
  ]
}